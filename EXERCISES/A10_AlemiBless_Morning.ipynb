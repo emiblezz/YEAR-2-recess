{
 "cells": [
  {
   "cell_type": "code",
   "execution_count": 1,
   "id": "e2d7b03a",
   "metadata": {},
   "outputs": [],
   "source": [
    "import numpy as np\n",
    "import pandas as pd\n",
    "import matplotlib.pyplot as plt\n",
    "import seaborn as sns\n",
    "%matplotlib inline\n",
    "from sklearn.linear_model import LogisticRegression, LinearRegression\n",
    "from sklearn.model_selection import train_test_split\n",
    "pd.options.display.max_columns=50\n",
    "sns.set(style=\"dark\", rc={'figure.facecolor': 'gray'})\n",
    "\n"
   ]
  },
  {
   "cell_type": "code",
   "execution_count": 2,
   "id": "122d4255",
   "metadata": {},
   "outputs": [
    {
     "data": {
      "text/html": [
       "<div>\n",
       "<style scoped>\n",
       "    .dataframe tbody tr th:only-of-type {\n",
       "        vertical-align: middle;\n",
       "    }\n",
       "\n",
       "    .dataframe tbody tr th {\n",
       "        vertical-align: top;\n",
       "    }\n",
       "\n",
       "    .dataframe thead th {\n",
       "        text-align: right;\n",
       "    }\n",
       "</style>\n",
       "<table border=\"1\" class=\"dataframe\">\n",
       "  <thead>\n",
       "    <tr style=\"text-align: right;\">\n",
       "      <th></th>\n",
       "      <th>age</th>\n",
       "      <th>sex</th>\n",
       "      <th>cp</th>\n",
       "      <th>trestbps</th>\n",
       "      <th>chol</th>\n",
       "      <th>fbs</th>\n",
       "      <th>restecg</th>\n",
       "      <th>thalach</th>\n",
       "      <th>exang</th>\n",
       "      <th>oldpeak</th>\n",
       "      <th>slope</th>\n",
       "      <th>ca</th>\n",
       "      <th>thal</th>\n",
       "      <th>target</th>\n",
       "    </tr>\n",
       "  </thead>\n",
       "  <tbody>\n",
       "    <tr>\n",
       "      <th>0</th>\n",
       "      <td>52</td>\n",
       "      <td>1</td>\n",
       "      <td>0</td>\n",
       "      <td>125</td>\n",
       "      <td>212</td>\n",
       "      <td>0</td>\n",
       "      <td>1</td>\n",
       "      <td>168</td>\n",
       "      <td>0</td>\n",
       "      <td>1.0</td>\n",
       "      <td>2</td>\n",
       "      <td>2</td>\n",
       "      <td>3</td>\n",
       "      <td>0</td>\n",
       "    </tr>\n",
       "    <tr>\n",
       "      <th>1</th>\n",
       "      <td>53</td>\n",
       "      <td>1</td>\n",
       "      <td>0</td>\n",
       "      <td>140</td>\n",
       "      <td>203</td>\n",
       "      <td>1</td>\n",
       "      <td>0</td>\n",
       "      <td>155</td>\n",
       "      <td>1</td>\n",
       "      <td>3.1</td>\n",
       "      <td>0</td>\n",
       "      <td>0</td>\n",
       "      <td>3</td>\n",
       "      <td>0</td>\n",
       "    </tr>\n",
       "    <tr>\n",
       "      <th>2</th>\n",
       "      <td>70</td>\n",
       "      <td>1</td>\n",
       "      <td>0</td>\n",
       "      <td>145</td>\n",
       "      <td>174</td>\n",
       "      <td>0</td>\n",
       "      <td>1</td>\n",
       "      <td>125</td>\n",
       "      <td>1</td>\n",
       "      <td>2.6</td>\n",
       "      <td>0</td>\n",
       "      <td>0</td>\n",
       "      <td>3</td>\n",
       "      <td>0</td>\n",
       "    </tr>\n",
       "    <tr>\n",
       "      <th>3</th>\n",
       "      <td>61</td>\n",
       "      <td>1</td>\n",
       "      <td>0</td>\n",
       "      <td>148</td>\n",
       "      <td>203</td>\n",
       "      <td>0</td>\n",
       "      <td>1</td>\n",
       "      <td>161</td>\n",
       "      <td>0</td>\n",
       "      <td>0.0</td>\n",
       "      <td>2</td>\n",
       "      <td>1</td>\n",
       "      <td>3</td>\n",
       "      <td>0</td>\n",
       "    </tr>\n",
       "    <tr>\n",
       "      <th>4</th>\n",
       "      <td>62</td>\n",
       "      <td>0</td>\n",
       "      <td>0</td>\n",
       "      <td>138</td>\n",
       "      <td>294</td>\n",
       "      <td>1</td>\n",
       "      <td>1</td>\n",
       "      <td>106</td>\n",
       "      <td>0</td>\n",
       "      <td>1.9</td>\n",
       "      <td>1</td>\n",
       "      <td>3</td>\n",
       "      <td>2</td>\n",
       "      <td>0</td>\n",
       "    </tr>\n",
       "    <tr>\n",
       "      <th>5</th>\n",
       "      <td>58</td>\n",
       "      <td>0</td>\n",
       "      <td>0</td>\n",
       "      <td>100</td>\n",
       "      <td>248</td>\n",
       "      <td>0</td>\n",
       "      <td>0</td>\n",
       "      <td>122</td>\n",
       "      <td>0</td>\n",
       "      <td>1.0</td>\n",
       "      <td>1</td>\n",
       "      <td>0</td>\n",
       "      <td>2</td>\n",
       "      <td>1</td>\n",
       "    </tr>\n",
       "    <tr>\n",
       "      <th>6</th>\n",
       "      <td>58</td>\n",
       "      <td>1</td>\n",
       "      <td>0</td>\n",
       "      <td>114</td>\n",
       "      <td>318</td>\n",
       "      <td>0</td>\n",
       "      <td>2</td>\n",
       "      <td>140</td>\n",
       "      <td>0</td>\n",
       "      <td>4.4</td>\n",
       "      <td>0</td>\n",
       "      <td>3</td>\n",
       "      <td>1</td>\n",
       "      <td>0</td>\n",
       "    </tr>\n",
       "    <tr>\n",
       "      <th>7</th>\n",
       "      <td>55</td>\n",
       "      <td>1</td>\n",
       "      <td>0</td>\n",
       "      <td>160</td>\n",
       "      <td>289</td>\n",
       "      <td>0</td>\n",
       "      <td>0</td>\n",
       "      <td>145</td>\n",
       "      <td>1</td>\n",
       "      <td>0.8</td>\n",
       "      <td>1</td>\n",
       "      <td>1</td>\n",
       "      <td>3</td>\n",
       "      <td>0</td>\n",
       "    </tr>\n",
       "    <tr>\n",
       "      <th>8</th>\n",
       "      <td>46</td>\n",
       "      <td>1</td>\n",
       "      <td>0</td>\n",
       "      <td>120</td>\n",
       "      <td>249</td>\n",
       "      <td>0</td>\n",
       "      <td>0</td>\n",
       "      <td>144</td>\n",
       "      <td>0</td>\n",
       "      <td>0.8</td>\n",
       "      <td>2</td>\n",
       "      <td>0</td>\n",
       "      <td>3</td>\n",
       "      <td>0</td>\n",
       "    </tr>\n",
       "    <tr>\n",
       "      <th>9</th>\n",
       "      <td>54</td>\n",
       "      <td>1</td>\n",
       "      <td>0</td>\n",
       "      <td>122</td>\n",
       "      <td>286</td>\n",
       "      <td>0</td>\n",
       "      <td>0</td>\n",
       "      <td>116</td>\n",
       "      <td>1</td>\n",
       "      <td>3.2</td>\n",
       "      <td>1</td>\n",
       "      <td>2</td>\n",
       "      <td>2</td>\n",
       "      <td>0</td>\n",
       "    </tr>\n",
       "    <tr>\n",
       "      <th>10</th>\n",
       "      <td>71</td>\n",
       "      <td>0</td>\n",
       "      <td>0</td>\n",
       "      <td>112</td>\n",
       "      <td>149</td>\n",
       "      <td>0</td>\n",
       "      <td>1</td>\n",
       "      <td>125</td>\n",
       "      <td>0</td>\n",
       "      <td>1.6</td>\n",
       "      <td>1</td>\n",
       "      <td>0</td>\n",
       "      <td>2</td>\n",
       "      <td>1</td>\n",
       "    </tr>\n",
       "    <tr>\n",
       "      <th>11</th>\n",
       "      <td>43</td>\n",
       "      <td>0</td>\n",
       "      <td>0</td>\n",
       "      <td>132</td>\n",
       "      <td>341</td>\n",
       "      <td>1</td>\n",
       "      <td>0</td>\n",
       "      <td>136</td>\n",
       "      <td>1</td>\n",
       "      <td>3.0</td>\n",
       "      <td>1</td>\n",
       "      <td>0</td>\n",
       "      <td>3</td>\n",
       "      <td>0</td>\n",
       "    </tr>\n",
       "    <tr>\n",
       "      <th>12</th>\n",
       "      <td>34</td>\n",
       "      <td>0</td>\n",
       "      <td>1</td>\n",
       "      <td>118</td>\n",
       "      <td>210</td>\n",
       "      <td>0</td>\n",
       "      <td>1</td>\n",
       "      <td>192</td>\n",
       "      <td>0</td>\n",
       "      <td>0.7</td>\n",
       "      <td>2</td>\n",
       "      <td>0</td>\n",
       "      <td>2</td>\n",
       "      <td>1</td>\n",
       "    </tr>\n",
       "    <tr>\n",
       "      <th>13</th>\n",
       "      <td>51</td>\n",
       "      <td>1</td>\n",
       "      <td>0</td>\n",
       "      <td>140</td>\n",
       "      <td>298</td>\n",
       "      <td>0</td>\n",
       "      <td>1</td>\n",
       "      <td>122</td>\n",
       "      <td>1</td>\n",
       "      <td>4.2</td>\n",
       "      <td>1</td>\n",
       "      <td>3</td>\n",
       "      <td>3</td>\n",
       "      <td>0</td>\n",
       "    </tr>\n",
       "    <tr>\n",
       "      <th>14</th>\n",
       "      <td>52</td>\n",
       "      <td>1</td>\n",
       "      <td>0</td>\n",
       "      <td>128</td>\n",
       "      <td>204</td>\n",
       "      <td>1</td>\n",
       "      <td>1</td>\n",
       "      <td>156</td>\n",
       "      <td>1</td>\n",
       "      <td>1.0</td>\n",
       "      <td>1</td>\n",
       "      <td>0</td>\n",
       "      <td>0</td>\n",
       "      <td>0</td>\n",
       "    </tr>\n",
       "    <tr>\n",
       "      <th>15</th>\n",
       "      <td>34</td>\n",
       "      <td>0</td>\n",
       "      <td>1</td>\n",
       "      <td>118</td>\n",
       "      <td>210</td>\n",
       "      <td>0</td>\n",
       "      <td>1</td>\n",
       "      <td>192</td>\n",
       "      <td>0</td>\n",
       "      <td>0.7</td>\n",
       "      <td>2</td>\n",
       "      <td>0</td>\n",
       "      <td>2</td>\n",
       "      <td>1</td>\n",
       "    </tr>\n",
       "    <tr>\n",
       "      <th>16</th>\n",
       "      <td>51</td>\n",
       "      <td>0</td>\n",
       "      <td>2</td>\n",
       "      <td>140</td>\n",
       "      <td>308</td>\n",
       "      <td>0</td>\n",
       "      <td>0</td>\n",
       "      <td>142</td>\n",
       "      <td>0</td>\n",
       "      <td>1.5</td>\n",
       "      <td>2</td>\n",
       "      <td>1</td>\n",
       "      <td>2</td>\n",
       "      <td>1</td>\n",
       "    </tr>\n",
       "    <tr>\n",
       "      <th>17</th>\n",
       "      <td>54</td>\n",
       "      <td>1</td>\n",
       "      <td>0</td>\n",
       "      <td>124</td>\n",
       "      <td>266</td>\n",
       "      <td>0</td>\n",
       "      <td>0</td>\n",
       "      <td>109</td>\n",
       "      <td>1</td>\n",
       "      <td>2.2</td>\n",
       "      <td>1</td>\n",
       "      <td>1</td>\n",
       "      <td>3</td>\n",
       "      <td>0</td>\n",
       "    </tr>\n",
       "    <tr>\n",
       "      <th>18</th>\n",
       "      <td>50</td>\n",
       "      <td>0</td>\n",
       "      <td>1</td>\n",
       "      <td>120</td>\n",
       "      <td>244</td>\n",
       "      <td>0</td>\n",
       "      <td>1</td>\n",
       "      <td>162</td>\n",
       "      <td>0</td>\n",
       "      <td>1.1</td>\n",
       "      <td>2</td>\n",
       "      <td>0</td>\n",
       "      <td>2</td>\n",
       "      <td>1</td>\n",
       "    </tr>\n",
       "    <tr>\n",
       "      <th>19</th>\n",
       "      <td>58</td>\n",
       "      <td>1</td>\n",
       "      <td>2</td>\n",
       "      <td>140</td>\n",
       "      <td>211</td>\n",
       "      <td>1</td>\n",
       "      <td>0</td>\n",
       "      <td>165</td>\n",
       "      <td>0</td>\n",
       "      <td>0.0</td>\n",
       "      <td>2</td>\n",
       "      <td>0</td>\n",
       "      <td>2</td>\n",
       "      <td>1</td>\n",
       "    </tr>\n",
       "  </tbody>\n",
       "</table>\n",
       "</div>"
      ],
      "text/plain": [
       "    age  sex  cp  trestbps  chol  fbs  restecg  thalach  exang  oldpeak  \\\n",
       "0    52    1   0       125   212    0        1      168      0      1.0   \n",
       "1    53    1   0       140   203    1        0      155      1      3.1   \n",
       "2    70    1   0       145   174    0        1      125      1      2.6   \n",
       "3    61    1   0       148   203    0        1      161      0      0.0   \n",
       "4    62    0   0       138   294    1        1      106      0      1.9   \n",
       "5    58    0   0       100   248    0        0      122      0      1.0   \n",
       "6    58    1   0       114   318    0        2      140      0      4.4   \n",
       "7    55    1   0       160   289    0        0      145      1      0.8   \n",
       "8    46    1   0       120   249    0        0      144      0      0.8   \n",
       "9    54    1   0       122   286    0        0      116      1      3.2   \n",
       "10   71    0   0       112   149    0        1      125      0      1.6   \n",
       "11   43    0   0       132   341    1        0      136      1      3.0   \n",
       "12   34    0   1       118   210    0        1      192      0      0.7   \n",
       "13   51    1   0       140   298    0        1      122      1      4.2   \n",
       "14   52    1   0       128   204    1        1      156      1      1.0   \n",
       "15   34    0   1       118   210    0        1      192      0      0.7   \n",
       "16   51    0   2       140   308    0        0      142      0      1.5   \n",
       "17   54    1   0       124   266    0        0      109      1      2.2   \n",
       "18   50    0   1       120   244    0        1      162      0      1.1   \n",
       "19   58    1   2       140   211    1        0      165      0      0.0   \n",
       "\n",
       "    slope  ca  thal  target  \n",
       "0       2   2     3       0  \n",
       "1       0   0     3       0  \n",
       "2       0   0     3       0  \n",
       "3       2   1     3       0  \n",
       "4       1   3     2       0  \n",
       "5       1   0     2       1  \n",
       "6       0   3     1       0  \n",
       "7       1   1     3       0  \n",
       "8       2   0     3       0  \n",
       "9       1   2     2       0  \n",
       "10      1   0     2       1  \n",
       "11      1   0     3       0  \n",
       "12      2   0     2       1  \n",
       "13      1   3     3       0  \n",
       "14      1   0     0       0  \n",
       "15      2   0     2       1  \n",
       "16      2   1     2       1  \n",
       "17      1   1     3       0  \n",
       "18      2   0     2       1  \n",
       "19      2   0     2       1  "
      ]
     },
     "execution_count": 2,
     "metadata": {},
     "output_type": "execute_result"
    }
   ],
   "source": [
    "# Load dataset\n",
    "df=pd.read_csv(\"heart_disease.csv\")\n",
    "df.head(20)"
   ]
  },
  {
   "cell_type": "code",
   "execution_count": 3,
   "id": "8831d797",
   "metadata": {},
   "outputs": [
    {
     "data": {
      "text/plain": [
       "target\n",
       "1    526\n",
       "0    499\n",
       "Name: count, dtype: int64"
      ]
     },
     "execution_count": 3,
     "metadata": {},
     "output_type": "execute_result"
    }
   ],
   "source": [
    "# show Number of people with heart diseases\n",
    "#\n",
    "df.target.value_counts()"
   ]
  },
  {
   "cell_type": "code",
   "execution_count": 4,
   "id": "d8c203aa",
   "metadata": {},
   "outputs": [
    {
     "name": "stdout",
     "output_type": "stream",
     "text": [
      "percentage of Female Patients:30.44%\n",
      "percentage of male Patients:69.56%\n"
     ]
    }
   ],
   "source": [
    "# show percentage of male and female\n",
    "count_female=len(df[df.sex==0])\n",
    "count_male=len(df[df.sex==1])\n",
    "# show output\n",
    "print('percentage of Female Patients:{:.2f}%'.format(count_female/(len(df.sex))*100))\n",
    "print('percentage of male Patients:{:.2f}%'.format(count_male/(len(df.sex))*100))"
   ]
  },
  {
   "cell_type": "code",
   "execution_count": 5,
   "id": "049593de",
   "metadata": {},
   "outputs": [
    {
     "data": {
      "image/png": "[encoded data removed]",
      "text/plain": [
       "<Figure size 2000x600 with 1 Axes>"
      ]
     },
     "metadata": {},
     "output_type": "display_data"
    }
   ],
   "source": [
    "# bar plot showing heart disease frequency of age\n",
    "pd.crosstab(df.age,df.target).plot(kind='bar',figsize=(20,6))\n",
    "plt.title('Heart disease Frequency for Ages')\n",
    "plt.xlabel('Age')\n",
    "plt.ylabel('Frequency')\n",
    "plt.show()\n"
   ]
  },
  {
   "cell_type": "code",
   "execution_count": null,
   "id": "6fabcfa0",
   "metadata": {},
   "outputs": [],
   "source": []
  },
  {
   "cell_type": "code",
   "execution_count": 6,
   "id": "a667122f",
   "metadata": {},
   "outputs": [
    {
     "data": {
      "image/png": "[encoded data removed]",
      "text/plain": [
       "<Figure size 2000x600 with 1 Axes>"
      ]
     },
     "metadata": {},
     "output_type": "display_data"
    }
   ],
   "source": [
    "# bar plot showing heart disease frequency of age\n",
    "pd.crosstab(df.sex,df.target).plot(kind='bar',figsize=(20,6),color=['#ACDDDE','#E1F8DC'])\n",
    "plt.title('Heart disease Frequency for SEX')\n",
    "plt.xlabel('SEX')\n",
    "plt.legend(['have heart disease','does not have heart disease'])\n",
    "plt.xticks(rotation=0)\n",
    "plt.ylabel('Frequency')\n",
    "plt.show()\n"
   ]
  },
  {
   "cell_type": "code",
   "execution_count": null,
   "id": "19ab9621",
   "metadata": {},
   "outputs": [],
   "source": []
  },
  {
   "cell_type": "code",
   "execution_count": 7,
   "id": "aa92f24f",
   "metadata": {},
   "outputs": [
    {
     "data": {
      "image/png": "[encoded data removed]",
      "text/plain": [
       "<Figure size 640x480 with 2 Axes>"
      ]
     },
     "metadata": {},
     "output_type": "display_data"
    }
   ],
   "source": [
    "# scatter plot showing heart disease frequency of age\n",
    "plt.scatter(df.age, df.chol, c=df['target'], cmap='coolwarm')\n",
    "plt.xlabel('Age')\n",
    "plt.ylabel('Cholesterol')\n",
    "plt.title('Scatter Plot: Age vs Cholesterol')\n",
    "plt.colorbar(label='Target')\n",
    "plt.show()\n"
   ]
  },
  {
   "cell_type": "code",
   "execution_count": 8,
   "id": "2964a801",
   "metadata": {},
   "outputs": [],
   "source": [
    "x=df[['age']]\n",
    "y=df['target']"
   ]
  },
  {
   "cell_type": "code",
   "execution_count": 9,
   "id": "8b790be5",
   "metadata": {},
   "outputs": [
    {
     "data": {
      "text/html": [
       "<div>\n",
       "<style scoped>\n",
       "    .dataframe tbody tr th:only-of-type {\n",
       "        vertical-align: middle;\n",
       "    }\n",
       "\n",
       "    .dataframe tbody tr th {\n",
       "        vertical-align: top;\n",
       "    }\n",
       "\n",
       "    .dataframe thead th {\n",
       "        text-align: right;\n",
       "    }\n",
       "</style>\n",
       "<table border=\"1\" class=\"dataframe\">\n",
       "  <thead>\n",
       "    <tr style=\"text-align: right;\">\n",
       "      <th></th>\n",
       "      <th>age</th>\n",
       "    </tr>\n",
       "  </thead>\n",
       "  <tbody>\n",
       "    <tr>\n",
       "      <th>0</th>\n",
       "      <td>52</td>\n",
       "    </tr>\n",
       "    <tr>\n",
       "      <th>1</th>\n",
       "      <td>53</td>\n",
       "    </tr>\n",
       "    <tr>\n",
       "      <th>2</th>\n",
       "      <td>70</td>\n",
       "    </tr>\n",
       "    <tr>\n",
       "      <th>3</th>\n",
       "      <td>61</td>\n",
       "    </tr>\n",
       "    <tr>\n",
       "      <th>4</th>\n",
       "      <td>62</td>\n",
       "    </tr>\n",
       "    <tr>\n",
       "      <th>...</th>\n",
       "      <td>...</td>\n",
       "    </tr>\n",
       "    <tr>\n",
       "      <th>1020</th>\n",
       "      <td>59</td>\n",
       "    </tr>\n",
       "    <tr>\n",
       "      <th>1021</th>\n",
       "      <td>60</td>\n",
       "    </tr>\n",
       "    <tr>\n",
       "      <th>1022</th>\n",
       "      <td>47</td>\n",
       "    </tr>\n",
       "    <tr>\n",
       "      <th>1023</th>\n",
       "      <td>50</td>\n",
       "    </tr>\n",
       "    <tr>\n",
       "      <th>1024</th>\n",
       "      <td>54</td>\n",
       "    </tr>\n",
       "  </tbody>\n",
       "</table>\n",
       "<p>1025 rows × 1 columns</p>\n",
       "</div>"
      ],
      "text/plain": [
       "      age\n",
       "0      52\n",
       "1      53\n",
       "2      70\n",
       "3      61\n",
       "4      62\n",
       "...   ...\n",
       "1020   59\n",
       "1021   60\n",
       "1022   47\n",
       "1023   50\n",
       "1024   54\n",
       "\n",
       "[1025 rows x 1 columns]"
      ]
     },
     "execution_count": 9,
     "metadata": {},
     "output_type": "execute_result"
    }
   ],
   "source": [
    "# view x samples\n",
    "x"
   ]
  },
  {
   "cell_type": "code",
   "execution_count": 10,
   "id": "43d9cf7b",
   "metadata": {},
   "outputs": [
    {
     "data": {
      "text/plain": [
       "0       0\n",
       "1       0\n",
       "2       0\n",
       "3       0\n",
       "4       0\n",
       "       ..\n",
       "1020    1\n",
       "1021    0\n",
       "1022    0\n",
       "1023    1\n",
       "1024    0\n",
       "Name: target, Length: 1025, dtype: int64"
      ]
     },
     "execution_count": 10,
     "metadata": {},
     "output_type": "execute_result"
    }
   ],
   "source": [
    "# view y samples\n",
    "y"
   ]
  },
  {
   "cell_type": "code",
   "execution_count": 11,
   "id": "e7faa3e5",
   "metadata": {},
   "outputs": [
    {
     "data": {
      "text/plain": [
       "922"
      ]
     },
     "execution_count": 11,
     "metadata": {},
     "output_type": "execute_result"
    }
   ],
   "source": [
    "# spliting the dataset for training and testing, here training is 90% and testing 10%\n",
    "x_train,x_test,y_train,y_test = train_test_split(x,y,test_size=0.1,random_state=10)\n",
    "len(x_train) # x columns to train"
   ]
  },
  {
   "cell_type": "code",
   "execution_count": 12,
   "id": "8aec8d80",
   "metadata": {},
   "outputs": [
    {
     "data": {
      "text/plain": [
       "103"
      ]
     },
     "execution_count": 12,
     "metadata": {},
     "output_type": "execute_result"
    }
   ],
   "source": [
    "len(x_test) # x columns to test"
   ]
  },
  {
   "cell_type": "code",
   "execution_count": 13,
   "id": "a2c6c2b9",
   "metadata": {},
   "outputs": [
    {
     "data": {
      "text/html": [
       "<div>\n",
       "<style scoped>\n",
       "    .dataframe tbody tr th:only-of-type {\n",
       "        vertical-align: middle;\n",
       "    }\n",
       "\n",
       "    .dataframe tbody tr th {\n",
       "        vertical-align: top;\n",
       "    }\n",
       "\n",
       "    .dataframe thead th {\n",
       "        text-align: right;\n",
       "    }\n",
       "</style>\n",
       "<table border=\"1\" class=\"dataframe\">\n",
       "  <thead>\n",
       "    <tr style=\"text-align: right;\">\n",
       "      <th></th>\n",
       "      <th>age</th>\n",
       "    </tr>\n",
       "  </thead>\n",
       "  <tbody>\n",
       "    <tr>\n",
       "      <th>896</th>\n",
       "      <td>59</td>\n",
       "    </tr>\n",
       "    <tr>\n",
       "      <th>900</th>\n",
       "      <td>61</td>\n",
       "    </tr>\n",
       "    <tr>\n",
       "      <th>983</th>\n",
       "      <td>64</td>\n",
       "    </tr>\n",
       "    <tr>\n",
       "      <th>728</th>\n",
       "      <td>46</td>\n",
       "    </tr>\n",
       "    <tr>\n",
       "      <th>358</th>\n",
       "      <td>59</td>\n",
       "    </tr>\n",
       "    <tr>\n",
       "      <th>...</th>\n",
       "      <td>...</td>\n",
       "    </tr>\n",
       "    <tr>\n",
       "      <th>156</th>\n",
       "      <td>40</td>\n",
       "    </tr>\n",
       "    <tr>\n",
       "      <th>123</th>\n",
       "      <td>65</td>\n",
       "    </tr>\n",
       "    <tr>\n",
       "      <th>369</th>\n",
       "      <td>51</td>\n",
       "    </tr>\n",
       "    <tr>\n",
       "      <th>320</th>\n",
       "      <td>53</td>\n",
       "    </tr>\n",
       "    <tr>\n",
       "      <th>527</th>\n",
       "      <td>62</td>\n",
       "    </tr>\n",
       "  </tbody>\n",
       "</table>\n",
       "<p>922 rows × 1 columns</p>\n",
       "</div>"
      ],
      "text/plain": [
       "     age\n",
       "896   59\n",
       "900   61\n",
       "983   64\n",
       "728   46\n",
       "358   59\n",
       "..   ...\n",
       "156   40\n",
       "123   65\n",
       "369   51\n",
       "320   53\n",
       "527   62\n",
       "\n",
       "[922 rows x 1 columns]"
      ]
     },
     "execution_count": 13,
     "metadata": {},
     "output_type": "execute_result"
    }
   ],
   "source": [
    "x_train"
   ]
  },
  {
   "cell_type": "code",
   "execution_count": 14,
   "id": "757edde8",
   "metadata": {},
   "outputs": [],
   "source": [
    "# using LogisticRegression\n",
    "clf=LogisticRegression()"
   ]
  },
  {
   "cell_type": "code",
   "execution_count": 15,
   "id": "f29170e9",
   "metadata": {},
   "outputs": [
    {
     "data": {
      "text/html": [
       "<style>#sk-container-id-1 {color: black;}#sk-container-id-1 pre{padding: 0;}#sk-container-id-1 div.sk-toggleable {background-color: white;}#sk-container-id-1 label.sk-toggleable__label {cursor: pointer;display: block;width: 100%;margin-bottom: 0;padding: 0.3em;box-sizing: border-box;text-align: center;}#sk-container-id-1 label.sk-toggleable__label-arrow:before {content: \"▸\";float: left;margin-right: 0.25em;color: #696969;}#sk-container-id-1 label.sk-toggleable__label-arrow:hover:before {color: black;}#sk-container-id-1 div.sk-estimator:hover label.sk-toggleable__label-arrow:before {color: black;}#sk-container-id-1 div.sk-toggleable__content {max-height: 0;max-width: 0;overflow: hidden;text-align: left;background-color: #f0f8ff;}#sk-container-id-1 div.sk-toggleable__content pre {margin: 0.2em;color: black;border-radius: 0.25em;background-color: #f0f8ff;}#sk-container-id-1 input.sk-toggleable__control:checked~div.sk-toggleable__content {max-height: 200px;max-width: 100%;overflow: auto;}#sk-container-id-1 input.sk-toggleable__control:checked~label.sk-toggleable__label-arrow:before {content: \"▾\";}#sk-container-id-1 div.sk-estimator input.sk-toggleable__control:checked~label.sk-toggleable__label {background-color: #d4ebff;}#sk-container-id-1 div.sk-label input.sk-toggleable__control:checked~label.sk-toggleable__label {background-color: #d4ebff;}#sk-container-id-1 input.sk-hidden--visually {border: 0;clip: rect(1px 1px 1px 1px);clip: rect(1px, 1px, 1px, 1px);height: 1px;margin: -1px;overflow: hidden;padding: 0;position: absolute;width: 1px;}#sk-container-id-1 div.sk-estimator {font-family: monospace;background-color: #f0f8ff;border: 1px dotted black;border-radius: 0.25em;box-sizing: border-box;margin-bottom: 0.5em;}#sk-container-id-1 div.sk-estimator:hover {background-color: #d4ebff;}#sk-container-id-1 div.sk-parallel-item::after {content: \"\";width: 100%;border-bottom: 1px solid gray;flex-grow: 1;}#sk-container-id-1 div.sk-label:hover label.sk-toggleable__label {background-color: #d4ebff;}#sk-container-id-1 div.sk-serial::before {content: \"\";position: absolute;border-left: 1px solid gray;box-sizing: border-box;top: 0;bottom: 0;left: 50%;z-index: 0;}#sk-container-id-1 div.sk-serial {display: flex;flex-direction: column;align-items: center;background-color: white;padding-right: 0.2em;padding-left: 0.2em;position: relative;}#sk-container-id-1 div.sk-item {position: relative;z-index: 1;}#sk-container-id-1 div.sk-parallel {display: flex;align-items: stretch;justify-content: center;background-color: white;position: relative;}#sk-container-id-1 div.sk-item::before, #sk-container-id-1 div.sk-parallel-item::before {content: \"\";position: absolute;border-left: 1px solid gray;box-sizing: border-box;top: 0;bottom: 0;left: 50%;z-index: -1;}#sk-container-id-1 div.sk-parallel-item {display: flex;flex-direction: column;z-index: 1;position: relative;background-color: white;}#sk-container-id-1 div.sk-parallel-item:first-child::after {align-self: flex-end;width: 50%;}#sk-container-id-1 div.sk-parallel-item:last-child::after {align-self: flex-start;width: 50%;}#sk-container-id-1 div.sk-parallel-item:only-child::after {width: 0;}#sk-container-id-1 div.sk-dashed-wrapped {border: 1px dashed gray;margin: 0 0.4em 0.5em 0.4em;box-sizing: border-box;padding-bottom: 0.4em;background-color: white;}#sk-container-id-1 div.sk-label label {font-family: monospace;font-weight: bold;display: inline-block;line-height: 1.2em;}#sk-container-id-1 div.sk-label-container {text-align: center;}#sk-container-id-1 div.sk-container {/* jupyter's `normalize.less` sets `[hidden] { display: none; }` but bootstrap.min.css set `[hidden] { display: none !important; }` so we also need the `!important` here to be able to override the default hidden behavior on the sphinx rendered scikit-learn.org. See: https://github.com/scikit-learn/scikit-learn/issues/21755 */display: inline-block !important;position: relative;}#sk-container-id-1 div.sk-text-repr-fallback {display: none;}</style><div id=\"sk-container-id-1\" class=\"sk-top-container\"><div class=\"sk-text-repr-fallback\"><pre>LogisticRegression()</pre><b>In a Jupyter environment, please rerun this cell to show the HTML representation or trust the notebook. <br />On GitHub, the HTML representation is unable to render, please try loading this page with nbviewer.org.</b></div><div class=\"sk-container\" hidden><div class=\"sk-item\"><div class=\"sk-estimator sk-toggleable\"><input class=\"sk-toggleable__control sk-hidden--visually\" id=\"sk-estimator-id-1\" type=\"checkbox\" checked><label for=\"sk-estimator-id-1\" class=\"sk-toggleable__label sk-toggleable__label-arrow\">LogisticRegression</label><div class=\"sk-toggleable__content\"><pre>LogisticRegression()</pre></div></div></div></div></div>"
      ],
      "text/plain": [
       "LogisticRegression()"
      ]
     },
     "execution_count": 15,
     "metadata": {},
     "output_type": "execute_result"
    }
   ],
   "source": [
    "# train dataset\n",
    "clf.fit(x_train,y_train)"
   ]
  },
  {
   "cell_type": "code",
   "execution_count": 16,
   "id": "c4ad3451",
   "metadata": {},
   "outputs": [
    {
     "data": {
      "text/plain": [
       "array([0, 0, 0, 1, 0, 1, 1, 1, 0, 0, 0, 1, 0, 0, 0, 1, 1, 0, 0, 1, 0, 1,\n",
       "       1, 0, 1, 1, 0, 0, 0, 1, 1, 1, 0, 1, 1, 0, 1, 1, 1, 1, 0, 0, 0, 1,\n",
       "       0, 0, 1, 1, 0, 0, 1, 0, 0, 0, 0, 1, 1, 1, 1, 1, 1, 0, 1, 1, 0, 0,\n",
       "       0, 0, 1, 0, 1, 0, 1, 0, 0, 1, 1, 1, 0, 0, 1, 0, 1, 1, 0, 0, 1, 1,\n",
       "       1, 1, 0, 1, 1, 1, 0, 0, 1, 0, 1, 1, 0, 1, 0], dtype=int64)"
      ]
     },
     "execution_count": 16,
     "metadata": {},
     "output_type": "execute_result"
    }
   ],
   "source": [
    "# predict trend\n",
    "clf.predict(x_test)"
   ]
  },
  {
   "cell_type": "code",
   "execution_count": 17,
   "id": "54601aa0",
   "metadata": {},
   "outputs": [
    {
     "data": {
      "text/plain": [
       "620     0\n",
       "181     1\n",
       "546     0\n",
       "618     1\n",
       "822     0\n",
       "       ..\n",
       "729     1\n",
       "971     1\n",
       "284     0\n",
       "1022    0\n",
       "500     1\n",
       "Name: target, Length: 103, dtype: int64"
      ]
     },
     "execution_count": 17,
     "metadata": {},
     "output_type": "execute_result"
    }
   ],
   "source": [
    "y_test"
   ]
  },
  {
   "cell_type": "code",
   "execution_count": 18,
   "id": "ccfef543",
   "metadata": {},
   "outputs": [
    {
     "data": {
      "text/plain": [
       "0.7281553398058253"
      ]
     },
     "execution_count": 18,
     "metadata": {},
     "output_type": "execute_result"
    }
   ],
   "source": [
    "# Testing for accuracy of the model\n",
    "clf.score(x_test,y_test)"
   ]
  },
  {
   "cell_type": "code",
   "execution_count": 19,
   "id": "da14cf52",
   "metadata": {},
   "outputs": [
    {
     "data": {
      "text/plain": [
       "array([[0.52163768, 0.47836232],\n",
       "       [0.60797921, 0.39202079],\n",
       "       [0.67715537, 0.32284463],\n",
       "       [0.42166711, 0.57833289],\n",
       "       [0.55911144, 0.44088856],\n",
       "       [0.44638223, 0.55361777],\n",
       "       [0.44638223, 0.55361777],\n",
       "       [0.36180928, 0.63819072],\n",
       "       [0.53417715, 0.46582285],\n",
       "       [0.55911144, 0.44088856],\n",
       "       [0.58375109, 0.41624891],\n",
       "       [0.36180928, 0.63819072],\n",
       "       [0.50907089, 0.49092911],\n",
       "       [0.58375109, 0.41624891],\n",
       "       [0.54667357, 0.45332643],\n",
       "       [0.3502735 , 0.6497265 ],\n",
       "       [0.37350658, 0.62649342],\n",
       "       [0.61990455, 0.38009545],\n",
       "       [0.55911144, 0.44088856],\n",
       "       [0.26495426, 0.73504574],\n",
       "       [0.61990455, 0.38009545],\n",
       "       [0.48391879, 0.51608121],\n",
       "       [0.26495426, 0.73504574],\n",
       "       [0.55911144, 0.44088856],\n",
       "       [0.44638223, 0.55361777],\n",
       "       [0.45884789, 0.54115211],\n",
       "       [0.60797921, 0.39202079],\n",
       "       [0.52163768, 0.47836232],\n",
       "       [0.55911144, 0.44088856],\n",
       "       [0.3853537 , 0.6146463 ],\n",
       "       [0.3853537 , 0.6146463 ],\n",
       "       [0.3389102 , 0.6610898 ],\n",
       "       [0.58375109, 0.41624891],\n",
       "       [0.48391879, 0.51608121],\n",
       "       [0.44638223, 0.55361777],\n",
       "       [0.50907089, 0.49092911],\n",
       "       [0.30595339, 0.69404661],\n",
       "       [0.36180928, 0.63819072],\n",
       "       [0.39733827, 0.60266173],\n",
       "       [0.45884789, 0.54115211],\n",
       "       [0.52163768, 0.47836232],\n",
       "       [0.53417715, 0.46582285],\n",
       "       [0.52163768, 0.47836232],\n",
       "       [0.36180928, 0.63819072],\n",
       "       [0.60797921, 0.39202079],\n",
       "       [0.52163768, 0.47836232],\n",
       "       [0.3389102 , 0.6610898 ],\n",
       "       [0.48391879, 0.51608121],\n",
       "       [0.63168689, 0.36831311],\n",
       "       [0.64331414, 0.35668586],\n",
       "       [0.43398363, 0.56601637],\n",
       "       [0.52163768, 0.47836232],\n",
       "       [0.54667357, 0.45332643],\n",
       "       [0.61990455, 0.38009545],\n",
       "       [0.50907089, 0.49092911],\n",
       "       [0.48391879, 0.51608121],\n",
       "       [0.3389102 , 0.6610898 ],\n",
       "       [0.3853537 , 0.6146463 ],\n",
       "       [0.21043934, 0.78956066],\n",
       "       [0.43398363, 0.56601637],\n",
       "       [0.3389102 , 0.6610898 ],\n",
       "       [0.59592361, 0.40407639],\n",
       "       [0.48391879, 0.51608121],\n",
       "       [0.45884789, 0.54115211],\n",
       "       [0.61990455, 0.38009545],\n",
       "       [0.58375109, 0.41624891],\n",
       "       [0.66605863, 0.33394137],\n",
       "       [0.52163768, 0.47836232],\n",
       "       [0.26495426, 0.73504574],\n",
       "       [0.50907089, 0.49092911],\n",
       "       [0.36180928, 0.63819072],\n",
       "       [0.53417715, 0.46582285],\n",
       "       [0.48391879, 0.51608121],\n",
       "       [0.52163768, 0.47836232],\n",
       "       [0.52163768, 0.47836232],\n",
       "       [0.26495426, 0.73504574],\n",
       "       [0.48391879, 0.51608121],\n",
       "       [0.37350658, 0.62649342],\n",
       "       [0.60797921, 0.39202079],\n",
       "       [0.55911144, 0.44088856],\n",
       "       [0.42166711, 0.57833289],\n",
       "       [0.71950321, 0.28049679],\n",
       "       [0.49649262, 0.50350738],\n",
       "       [0.32772959, 0.67227041],\n",
       "       [0.53417715, 0.46582285],\n",
       "       [0.50907089, 0.49092911],\n",
       "       [0.44638223, 0.55361777],\n",
       "       [0.45884789, 0.54115211],\n",
       "       [0.32772959, 0.67227041],\n",
       "       [0.39733827, 0.60266173],\n",
       "       [0.54667357, 0.45332643],\n",
       "       [0.45884789, 0.54115211],\n",
       "       [0.48391879, 0.51608121],\n",
       "       [0.32772959, 0.67227041],\n",
       "       [0.58375109, 0.41624891],\n",
       "       [0.57147557, 0.42852443],\n",
       "       [0.28501068, 0.71498932],\n",
       "       [0.64331414, 0.35668586],\n",
       "       [0.49649262, 0.50350738],\n",
       "       [0.45884789, 0.54115211],\n",
       "       [0.53417715, 0.46582285],\n",
       "       [0.39733827, 0.60266173],\n",
       "       [0.68805606, 0.31194394]])"
      ]
     },
     "execution_count": 19,
     "metadata": {},
     "output_type": "execute_result"
    }
   ],
   "source": [
    "# predicting probability\n",
    "clf.predict_proba(x_test)"
   ]
  },
  {
   "cell_type": "code",
   "execution_count": 20,
   "id": "6b0c5e8a",
   "metadata": {},
   "outputs": [
    {
     "name": "stderr",
     "output_type": "stream",
     "text": [
      "C:\\Users\\WINDOWS\\AppData\\Local\\Programs\\Python\\Python311\\Lib\\site-packages\\sklearn\\base.py:464: UserWarning: X does not have valid feature names, but LogisticRegression was fitted with feature names\n",
      "  warnings.warn(\n"
     ]
    },
    {
     "data": {
      "text/plain": [
       "array([1], dtype=int64)"
      ]
     },
     "execution_count": 20,
     "metadata": {},
     "output_type": "execute_result"
    }
   ],
   "source": [
    "#predicting using the age\n",
    "clf.predict([[50]])"
   ]
  },
  {
   "cell_type": "markdown",
   "id": "cae8983c",
   "metadata": {},
   "source": [
    "# Decission Tree\n"
   ]
  },
  {
   "cell_type": "code",
   "execution_count": 41,
   "id": "c723bd4e",
   "metadata": {},
   "outputs": [],
   "source": [
    "from sklearn.preprocessing import LabelEncoder\n",
    "from sklearn.datasets import load_iris\n",
    "from sklearn.tree import DecisionTreeClassifier\n",
    "from sklearn.tree import export_text\n",
    "from sklearn import tree\n",
    "# load the Iris dataset\n",
    "data = load_iris()\n",
    "df = pd.DataFrame(data.data, columns=data.feature_names)\n",
    "df['target']=data.target"
   ]
  },
  {
   "cell_type": "code",
   "execution_count": 42,
   "id": "776d8855",
   "metadata": {},
   "outputs": [
    {
     "data": {
      "text/html": [
       "<style>#sk-container-id-3 {color: black;}#sk-container-id-3 pre{padding: 0;}#sk-container-id-3 div.sk-toggleable {background-color: white;}#sk-container-id-3 label.sk-toggleable__label {cursor: pointer;display: block;width: 100%;margin-bottom: 0;padding: 0.3em;box-sizing: border-box;text-align: center;}#sk-container-id-3 label.sk-toggleable__label-arrow:before {content: \"▸\";float: left;margin-right: 0.25em;color: #696969;}#sk-container-id-3 label.sk-toggleable__label-arrow:hover:before {color: black;}#sk-container-id-3 div.sk-estimator:hover label.sk-toggleable__label-arrow:before {color: black;}#sk-container-id-3 div.sk-toggleable__content {max-height: 0;max-width: 0;overflow: hidden;text-align: left;background-color: #f0f8ff;}#sk-container-id-3 div.sk-toggleable__content pre {margin: 0.2em;color: black;border-radius: 0.25em;background-color: #f0f8ff;}#sk-container-id-3 input.sk-toggleable__control:checked~div.sk-toggleable__content {max-height: 200px;max-width: 100%;overflow: auto;}#sk-container-id-3 input.sk-toggleable__control:checked~label.sk-toggleable__label-arrow:before {content: \"▾\";}#sk-container-id-3 div.sk-estimator input.sk-toggleable__control:checked~label.sk-toggleable__label {background-color: #d4ebff;}#sk-container-id-3 div.sk-label input.sk-toggleable__control:checked~label.sk-toggleable__label {background-color: #d4ebff;}#sk-container-id-3 input.sk-hidden--visually {border: 0;clip: rect(1px 1px 1px 1px);clip: rect(1px, 1px, 1px, 1px);height: 1px;margin: -1px;overflow: hidden;padding: 0;position: absolute;width: 1px;}#sk-container-id-3 div.sk-estimator {font-family: monospace;background-color: #f0f8ff;border: 1px dotted black;border-radius: 0.25em;box-sizing: border-box;margin-bottom: 0.5em;}#sk-container-id-3 div.sk-estimator:hover {background-color: #d4ebff;}#sk-container-id-3 div.sk-parallel-item::after {content: \"\";width: 100%;border-bottom: 1px solid gray;flex-grow: 1;}#sk-container-id-3 div.sk-label:hover label.sk-toggleable__label {background-color: #d4ebff;}#sk-container-id-3 div.sk-serial::before {content: \"\";position: absolute;border-left: 1px solid gray;box-sizing: border-box;top: 0;bottom: 0;left: 50%;z-index: 0;}#sk-container-id-3 div.sk-serial {display: flex;flex-direction: column;align-items: center;background-color: white;padding-right: 0.2em;padding-left: 0.2em;position: relative;}#sk-container-id-3 div.sk-item {position: relative;z-index: 1;}#sk-container-id-3 div.sk-parallel {display: flex;align-items: stretch;justify-content: center;background-color: white;position: relative;}#sk-container-id-3 div.sk-item::before, #sk-container-id-3 div.sk-parallel-item::before {content: \"\";position: absolute;border-left: 1px solid gray;box-sizing: border-box;top: 0;bottom: 0;left: 50%;z-index: -1;}#sk-container-id-3 div.sk-parallel-item {display: flex;flex-direction: column;z-index: 1;position: relative;background-color: white;}#sk-container-id-3 div.sk-parallel-item:first-child::after {align-self: flex-end;width: 50%;}#sk-container-id-3 div.sk-parallel-item:last-child::after {align-self: flex-start;width: 50%;}#sk-container-id-3 div.sk-parallel-item:only-child::after {width: 0;}#sk-container-id-3 div.sk-dashed-wrapped {border: 1px dashed gray;margin: 0 0.4em 0.5em 0.4em;box-sizing: border-box;padding-bottom: 0.4em;background-color: white;}#sk-container-id-3 div.sk-label label {font-family: monospace;font-weight: bold;display: inline-block;line-height: 1.2em;}#sk-container-id-3 div.sk-label-container {text-align: center;}#sk-container-id-3 div.sk-container {/* jupyter's `normalize.less` sets `[hidden] { display: none; }` but bootstrap.min.css set `[hidden] { display: none !important; }` so we also need the `!important` here to be able to override the default hidden behavior on the sphinx rendered scikit-learn.org. See: https://github.com/scikit-learn/scikit-learn/issues/21755 */display: inline-block !important;position: relative;}#sk-container-id-3 div.sk-text-repr-fallback {display: none;}</style><div id=\"sk-container-id-3\" class=\"sk-top-container\"><div class=\"sk-text-repr-fallback\"><pre>DecisionTreeClassifier()</pre><b>In a Jupyter environment, please rerun this cell to show the HTML representation or trust the notebook. <br />On GitHub, the HTML representation is unable to render, please try loading this page with nbviewer.org.</b></div><div class=\"sk-container\" hidden><div class=\"sk-item\"><div class=\"sk-estimator sk-toggleable\"><input class=\"sk-toggleable__control sk-hidden--visually\" id=\"sk-estimator-id-3\" type=\"checkbox\" checked><label for=\"sk-estimator-id-3\" class=\"sk-toggleable__label sk-toggleable__label-arrow\">DecisionTreeClassifier</label><div class=\"sk-toggleable__content\"><pre>DecisionTreeClassifier()</pre></div></div></div></div></div>"
      ],
      "text/plain": [
       "DecisionTreeClassifier()"
      ]
     },
     "execution_count": 42,
     "metadata": {},
     "output_type": "execute_result"
    }
   ],
   "source": [
    "# create a decision Tree classifier\n",
    "model=DecisionTreeClassifier()\n",
    "# fit the classier to the training data\n",
    "model.fit(x_train,y_train)\n"
   ]
  },
  {
   "cell_type": "code",
   "execution_count": 43,
   "id": "d2cffebc",
   "metadata": {},
   "outputs": [
    {
     "data": {
      "text/plain": [
       "array([0, 1, 0, 0, 0, 1, 1, 1, 0, 0, 0, 1, 0, 0, 0, 1, 1, 0, 0, 1, 0, 1,\n",
       "       1, 0, 1, 1, 1, 0, 0, 0, 0, 1, 0, 1, 1, 0, 1, 1, 1, 1, 0, 0, 0, 1,\n",
       "       1, 0, 1, 1, 1, 0, 1, 0, 0, 0, 0, 1, 1, 0, 1, 1, 1, 0, 1, 1, 0, 0,\n",
       "       1, 0, 1, 0, 1, 0, 1, 0, 0, 1, 1, 1, 1, 0, 0, 1, 0, 1, 0, 0, 1, 1,\n",
       "       1, 1, 0, 1, 1, 1, 0, 0, 1, 0, 0, 1, 0, 1, 1], dtype=int64)"
      ]
     },
     "execution_count": 43,
     "metadata": {},
     "output_type": "execute_result"
    }
   ],
   "source": [
    "# Printing the accuracy of the model\n",
    "model.predict(x_test)"
   ]
  },
  {
   "cell_type": "code",
   "execution_count": 44,
   "id": "23ada52e",
   "metadata": {},
   "outputs": [
    {
     "name": "stdout",
     "output_type": "stream",
     "text": [
      "Accuracy: 0.7378640776699029\n"
     ]
    }
   ],
   "source": [
    "predictions = model.predict(x_test)\n",
    "# Print the accuracy of the model\n",
    "accuracy = (predictions == y_test).mean()\n",
    "print(f\"Accuracy: {accuracy}\")"
   ]
  },
  {
   "cell_type": "code",
   "execution_count": 45,
   "id": "ab71e433",
   "metadata": {},
   "outputs": [
    {
     "name": "stdout",
     "output_type": "stream",
     "text": [
      "Decision Tree Rules:\n",
      "|--- age <= 54.50\n",
      "|   |--- age <= 42.50\n",
      "|   |   |--- age <= 40.50\n",
      "|   |   |   |--- age <= 39.50\n",
      "|   |   |   |   |--- age <= 34.50\n",
      "|   |   |   |   |   |--- class: 1\n",
      "|   |   |   |   |--- age >  34.50\n",
      "|   |   |   |   |   |--- age <= 36.00\n",
      "|   |   |   |   |   |   |--- class: 1\n",
      "|   |   |   |   |   |--- age >  36.00\n",
      "|   |   |   |   |   |   |--- age <= 37.50\n",
      "|   |   |   |   |   |   |   |--- class: 1\n",
      "|   |   |   |   |   |   |--- age >  37.50\n",
      "|   |   |   |   |   |   |   |--- age <= 38.50\n",
      "|   |   |   |   |   |   |   |   |--- class: 1\n",
      "|   |   |   |   |   |   |   |--- age >  38.50\n",
      "|   |   |   |   |   |   |   |   |--- class: 1\n",
      "|   |   |   |--- age >  39.50\n",
      "|   |   |   |   |--- class: 0\n",
      "|   |   |--- age >  40.50\n",
      "|   |   |   |--- age <= 41.50\n",
      "|   |   |   |   |--- class: 1\n",
      "|   |   |   |--- age >  41.50\n",
      "|   |   |   |   |--- class: 1\n",
      "|   |--- age >  42.50\n",
      "|   |   |--- age <= 45.50\n",
      "|   |   |   |--- age <= 43.50\n",
      "|   |   |   |   |--- class: 1\n",
      "|   |   |   |--- age >  43.50\n",
      "|   |   |   |   |--- age <= 44.50\n",
      "|   |   |   |   |   |--- class: 1\n",
      "|   |   |   |   |--- age >  44.50\n",
      "|   |   |   |   |   |--- class: 1\n",
      "|   |   |--- age >  45.50\n",
      "|   |   |   |--- age <= 50.50\n",
      "|   |   |   |   |--- age <= 48.50\n",
      "|   |   |   |   |   |--- age <= 46.50\n",
      "|   |   |   |   |   |   |--- class: 0\n",
      "|   |   |   |   |   |--- age >  46.50\n",
      "|   |   |   |   |   |   |--- age <= 47.50\n",
      "|   |   |   |   |   |   |   |--- class: 1\n",
      "|   |   |   |   |   |   |--- age >  47.50\n",
      "|   |   |   |   |   |   |   |--- class: 1\n",
      "|   |   |   |   |--- age >  48.50\n",
      "|   |   |   |   |   |--- age <= 49.50\n",
      "|   |   |   |   |   |   |--- class: 0\n",
      "|   |   |   |   |   |--- age >  49.50\n",
      "|   |   |   |   |   |   |--- class: 1\n",
      "|   |   |   |--- age >  50.50\n",
      "|   |   |   |   |--- age <= 53.50\n",
      "|   |   |   |   |   |--- age <= 51.50\n",
      "|   |   |   |   |   |   |--- class: 1\n",
      "|   |   |   |   |   |--- age >  51.50\n",
      "|   |   |   |   |   |   |--- age <= 52.50\n",
      "|   |   |   |   |   |   |   |--- class: 1\n",
      "|   |   |   |   |   |   |--- age >  52.50\n",
      "|   |   |   |   |   |   |   |--- class: 1\n",
      "|   |   |   |   |--- age >  53.50\n",
      "|   |   |   |   |   |--- class: 1\n",
      "|--- age >  54.50\n",
      "|   |--- age <= 70.50\n",
      "|   |   |--- age <= 63.50\n",
      "|   |   |   |--- age <= 58.50\n",
      "|   |   |   |   |--- age <= 55.50\n",
      "|   |   |   |   |   |--- class: 0\n",
      "|   |   |   |   |--- age >  55.50\n",
      "|   |   |   |   |   |--- age <= 56.50\n",
      "|   |   |   |   |   |   |--- class: 0\n",
      "|   |   |   |   |   |--- age >  56.50\n",
      "|   |   |   |   |   |   |--- age <= 57.50\n",
      "|   |   |   |   |   |   |   |--- class: 0\n",
      "|   |   |   |   |   |   |--- age >  57.50\n",
      "|   |   |   |   |   |   |   |--- class: 0\n",
      "|   |   |   |--- age >  58.50\n",
      "|   |   |   |   |--- age <= 61.50\n",
      "|   |   |   |   |   |--- age <= 60.50\n",
      "|   |   |   |   |   |   |--- age <= 59.50\n",
      "|   |   |   |   |   |   |   |--- class: 0\n",
      "|   |   |   |   |   |   |--- age >  59.50\n",
      "|   |   |   |   |   |   |   |--- class: 0\n",
      "|   |   |   |   |   |--- age >  60.50\n",
      "|   |   |   |   |   |   |--- class: 0\n",
      "|   |   |   |   |--- age >  61.50\n",
      "|   |   |   |   |   |--- age <= 62.50\n",
      "|   |   |   |   |   |   |--- class: 0\n",
      "|   |   |   |   |   |--- age >  62.50\n",
      "|   |   |   |   |   |   |--- class: 0\n",
      "|   |   |--- age >  63.50\n",
      "|   |   |   |--- age <= 69.50\n",
      "|   |   |   |   |--- age <= 68.50\n",
      "|   |   |   |   |   |--- age <= 66.50\n",
      "|   |   |   |   |   |   |--- age <= 65.50\n",
      "|   |   |   |   |   |   |   |--- age <= 64.50\n",
      "|   |   |   |   |   |   |   |   |--- class: 1\n",
      "|   |   |   |   |   |   |   |--- age >  64.50\n",
      "|   |   |   |   |   |   |   |   |--- class: 0\n",
      "|   |   |   |   |   |   |--- age >  65.50\n",
      "|   |   |   |   |   |   |   |--- class: 1\n",
      "|   |   |   |   |   |--- age >  66.50\n",
      "|   |   |   |   |   |   |--- age <= 67.50\n",
      "|   |   |   |   |   |   |   |--- class: 0\n",
      "|   |   |   |   |   |   |--- age >  67.50\n",
      "|   |   |   |   |   |   |   |--- class: 0\n",
      "|   |   |   |   |--- age >  68.50\n",
      "|   |   |   |   |   |--- class: 1\n",
      "|   |   |   |--- age >  69.50\n",
      "|   |   |   |   |--- class: 0\n",
      "|   |--- age >  70.50\n",
      "|   |   |--- age <= 76.50\n",
      "|   |   |   |--- class: 1\n",
      "|   |   |--- age >  76.50\n",
      "|   |   |   |--- class: 0\n",
      "\n"
     ]
    }
   ],
   "source": [
    "# Print the decision tree in text format\n",
    "tree_rules = export_text(model, feature_names=list(x.columns))\n",
    "print(\"Decision Tree Rules:\")\n",
    "print(tree_rules)"
   ]
  },
  {
   "cell_type": "code",
   "execution_count": 46,
   "id": "55669a19",
   "metadata": {},
   "outputs": [
    {
     "data": {
      "text/plain": [
       "[Text(0.5343137254901961, 0.9444444444444444, 'x[0] <= 54.5\\ngini = 0.5\\nsamples = 922\\nvalue = [453, 469]'),\n",
       " Text(0.2034313725490196, 0.8333333333333334, 'x[0] <= 42.5\\ngini = 0.452\\nsamples = 425\\nvalue = [147, 278]'),\n",
       " Text(0.09803921568627451, 0.7222222222222222, 'x[0] <= 40.5\\ngini = 0.357\\nsamples = 112\\nvalue = [26, 86]'),\n",
       " Text(0.058823529411764705, 0.6111111111111112, 'x[0] <= 39.5\\ngini = 0.441\\nsamples = 61\\nvalue = [20, 41]'),\n",
       " Text(0.0392156862745098, 0.5, 'x[0] <= 34.5\\ngini = 0.365\\nsamples = 50\\nvalue = [12, 38]'),\n",
       " Text(0.0196078431372549, 0.3888888888888889, 'gini = 0.0\\nsamples = 9\\nvalue = [0, 9]'),\n",
       " Text(0.058823529411764705, 0.3888888888888889, 'x[0] <= 36.0\\ngini = 0.414\\nsamples = 41\\nvalue = [12, 29]'),\n",
       " Text(0.0392156862745098, 0.2777777777777778, 'gini = 0.496\\nsamples = 11\\nvalue = [5, 6]'),\n",
       " Text(0.0784313725490196, 0.2777777777777778, 'x[0] <= 37.5\\ngini = 0.358\\nsamples = 30\\nvalue = [7, 23]'),\n",
       " Text(0.058823529411764705, 0.16666666666666666, 'gini = 0.0\\nsamples = 5\\nvalue = [0, 5]'),\n",
       " Text(0.09803921568627451, 0.16666666666666666, 'x[0] <= 38.5\\ngini = 0.403\\nsamples = 25\\nvalue = [7, 18]'),\n",
       " Text(0.0784313725490196, 0.05555555555555555, 'gini = 0.444\\nsamples = 12\\nvalue = [4, 8]'),\n",
       " Text(0.11764705882352941, 0.05555555555555555, 'gini = 0.355\\nsamples = 13\\nvalue = [3, 10]'),\n",
       " Text(0.0784313725490196, 0.5, 'gini = 0.397\\nsamples = 11\\nvalue = [8, 3]'),\n",
       " Text(0.13725490196078433, 0.6111111111111112, 'x[0] <= 41.5\\ngini = 0.208\\nsamples = 51\\nvalue = [6, 45]'),\n",
       " Text(0.11764705882352941, 0.5, 'gini = 0.128\\nsamples = 29\\nvalue = [2, 27]'),\n",
       " Text(0.1568627450980392, 0.5, 'gini = 0.298\\nsamples = 22\\nvalue = [4, 18]'),\n",
       " Text(0.3088235294117647, 0.7222222222222222, 'x[0] <= 45.5\\ngini = 0.474\\nsamples = 313\\nvalue = [121, 192]'),\n",
       " Text(0.21568627450980393, 0.6111111111111112, 'x[0] <= 43.5\\ngini = 0.442\\nsamples = 79\\nvalue = [26, 53]'),\n",
       " Text(0.19607843137254902, 0.5, 'gini = 0.48\\nsamples = 25\\nvalue = [10, 15]'),\n",
       " Text(0.23529411764705882, 0.5, 'x[0] <= 44.5\\ngini = 0.417\\nsamples = 54\\nvalue = [16, 38]'),\n",
       " Text(0.21568627450980393, 0.3888888888888889, 'gini = 0.437\\nsamples = 31\\nvalue = [10, 21]'),\n",
       " Text(0.2549019607843137, 0.3888888888888889, 'gini = 0.386\\nsamples = 23\\nvalue = [6, 17]'),\n",
       " Text(0.4019607843137255, 0.6111111111111112, 'x[0] <= 50.5\\ngini = 0.482\\nsamples = 234\\nvalue = [95, 139]'),\n",
       " Text(0.3333333333333333, 0.5, 'x[0] <= 48.5\\ngini = 0.499\\nsamples = 92\\nvalue = [44, 48]'),\n",
       " Text(0.29411764705882354, 0.3888888888888889, 'x[0] <= 46.5\\ngini = 0.498\\nsamples = 58\\nvalue = [27, 31]'),\n",
       " Text(0.27450980392156865, 0.2777777777777778, 'gini = 0.5\\nsamples = 20\\nvalue = [10, 10]'),\n",
       " Text(0.3137254901960784, 0.2777777777777778, 'x[0] <= 47.5\\ngini = 0.494\\nsamples = 38\\nvalue = [17, 21]'),\n",
       " Text(0.29411764705882354, 0.16666666666666666, 'gini = 0.48\\nsamples = 15\\nvalue = [6, 9]'),\n",
       " Text(0.3333333333333333, 0.16666666666666666, 'gini = 0.499\\nsamples = 23\\nvalue = [11, 12]'),\n",
       " Text(0.37254901960784315, 0.3888888888888889, 'x[0] <= 49.5\\ngini = 0.5\\nsamples = 34\\nvalue = [17, 17]'),\n",
       " Text(0.35294117647058826, 0.2777777777777778, 'gini = 0.498\\nsamples = 15\\nvalue = [8, 7]'),\n",
       " Text(0.39215686274509803, 0.2777777777777778, 'gini = 0.499\\nsamples = 19\\nvalue = [9, 10]'),\n",
       " Text(0.47058823529411764, 0.5, 'x[0] <= 53.5\\ngini = 0.46\\nsamples = 142\\nvalue = [51, 91]'),\n",
       " Text(0.45098039215686275, 0.3888888888888889, 'x[0] <= 51.5\\ngini = 0.435\\nsamples = 97\\nvalue = [31, 66]'),\n",
       " Text(0.43137254901960786, 0.2777777777777778, 'gini = 0.389\\nsamples = 34\\nvalue = [9, 25]'),\n",
       " Text(0.47058823529411764, 0.2777777777777778, 'x[0] <= 52.5\\ngini = 0.455\\nsamples = 63\\nvalue = [22, 41]'),\n",
       " Text(0.45098039215686275, 0.16666666666666666, 'gini = 0.47\\nsamples = 37\\nvalue = [14, 23]'),\n",
       " Text(0.49019607843137253, 0.16666666666666666, 'gini = 0.426\\nsamples = 26\\nvalue = [8, 18]'),\n",
       " Text(0.49019607843137253, 0.3888888888888889, 'gini = 0.494\\nsamples = 45\\nvalue = [20, 25]'),\n",
       " Text(0.8651960784313726, 0.8333333333333334, 'x[0] <= 70.5\\ngini = 0.473\\nsamples = 497\\nvalue = [306, 191]'),\n",
       " Text(0.7696078431372549, 0.7222222222222222, 'x[0] <= 63.5\\ngini = 0.465\\nsamples = 479\\nvalue = [303, 176]'),\n",
       " Text(0.6372549019607843, 0.6111111111111112, 'x[0] <= 58.5\\ngini = 0.442\\nsamples = 340\\nvalue = [228, 112]'),\n",
       " Text(0.5490196078431373, 0.5, 'x[0] <= 55.5\\ngini = 0.466\\nsamples = 173\\nvalue = [109, 64]'),\n",
       " Text(0.5294117647058824, 0.3888888888888889, 'gini = 0.436\\nsamples = 28\\nvalue = [19, 9]'),\n",
       " Text(0.5686274509803921, 0.3888888888888889, 'x[0] <= 56.5\\ngini = 0.471\\nsamples = 145\\nvalue = [90, 55]'),\n",
       " Text(0.5490196078431373, 0.2777777777777778, 'gini = 0.484\\nsamples = 34\\nvalue = [20, 14]'),\n",
       " Text(0.5882352941176471, 0.2777777777777778, 'x[0] <= 57.5\\ngini = 0.466\\nsamples = 111\\nvalue = [70, 41]'),\n",
       " Text(0.5686274509803921, 0.16666666666666666, 'gini = 0.469\\nsamples = 48\\nvalue = [30, 18]'),\n",
       " Text(0.6078431372549019, 0.16666666666666666, 'gini = 0.464\\nsamples = 63\\nvalue = [40, 23]'),\n",
       " Text(0.7254901960784313, 0.5, 'x[0] <= 61.5\\ngini = 0.41\\nsamples = 167\\nvalue = [119, 48]'),\n",
       " Text(0.6862745098039216, 0.3888888888888889, 'x[0] <= 60.5\\ngini = 0.375\\nsamples = 104\\nvalue = [78, 26]'),\n",
       " Text(0.6666666666666666, 0.2777777777777778, 'x[0] <= 59.5\\ngini = 0.428\\nsamples = 74\\nvalue = [51, 23]'),\n",
       " Text(0.6470588235294118, 0.16666666666666666, 'gini = 0.422\\nsamples = 43\\nvalue = [30, 13]'),\n",
       " Text(0.6862745098039216, 0.16666666666666666, 'gini = 0.437\\nsamples = 31\\nvalue = [21, 10]'),\n",
       " Text(0.7058823529411765, 0.2777777777777778, 'gini = 0.18\\nsamples = 30\\nvalue = [27, 3]'),\n",
       " Text(0.7647058823529411, 0.3888888888888889, 'x[0] <= 62.5\\ngini = 0.455\\nsamples = 63\\nvalue = [41, 22]'),\n",
       " Text(0.7450980392156863, 0.2777777777777778, 'gini = 0.482\\nsamples = 32\\nvalue = [19, 13]'),\n",
       " Text(0.7843137254901961, 0.2777777777777778, 'gini = 0.412\\nsamples = 31\\nvalue = [22, 9]'),\n",
       " Text(0.9019607843137255, 0.6111111111111112, 'x[0] <= 69.5\\ngini = 0.497\\nsamples = 139\\nvalue = [75, 64]'),\n",
       " Text(0.8823529411764706, 0.5, 'x[0] <= 68.5\\ngini = 0.499\\nsamples = 126\\nvalue = [65, 61]'),\n",
       " Text(0.8627450980392157, 0.3888888888888889, 'x[0] <= 66.5\\ngini = 0.498\\nsamples = 118\\nvalue = [63, 55]'),\n",
       " Text(0.8235294117647058, 0.2777777777777778, 'x[0] <= 65.5\\ngini = 0.499\\nsamples = 77\\nvalue = [37, 40]'),\n",
       " Text(0.803921568627451, 0.16666666666666666, 'x[0] <= 64.5\\ngini = 0.5\\nsamples = 53\\nvalue = [26, 27]'),\n",
       " Text(0.7843137254901961, 0.05555555555555555, 'gini = 0.498\\nsamples = 30\\nvalue = [14, 16]'),\n",
       " Text(0.8235294117647058, 0.05555555555555555, 'gini = 0.499\\nsamples = 23\\nvalue = [12, 11]'),\n",
       " Text(0.8431372549019608, 0.16666666666666666, 'gini = 0.497\\nsamples = 24\\nvalue = [11, 13]'),\n",
       " Text(0.9019607843137255, 0.2777777777777778, 'x[0] <= 67.5\\ngini = 0.464\\nsamples = 41\\nvalue = [26, 15]'),\n",
       " Text(0.8823529411764706, 0.16666666666666666, 'gini = 0.428\\nsamples = 29\\nvalue = [20, 9]'),\n",
       " Text(0.9215686274509803, 0.16666666666666666, 'gini = 0.5\\nsamples = 12\\nvalue = [6, 6]'),\n",
       " Text(0.9019607843137255, 0.3888888888888889, 'gini = 0.375\\nsamples = 8\\nvalue = [2, 6]'),\n",
       " Text(0.9215686274509803, 0.5, 'gini = 0.355\\nsamples = 13\\nvalue = [10, 3]'),\n",
       " Text(0.9607843137254902, 0.7222222222222222, 'x[0] <= 76.5\\ngini = 0.278\\nsamples = 18\\nvalue = [3, 15]'),\n",
       " Text(0.9411764705882353, 0.6111111111111112, 'gini = 0.0\\nsamples = 15\\nvalue = [0, 15]'),\n",
       " Text(0.9803921568627451, 0.6111111111111112, 'gini = 0.0\\nsamples = 3\\nvalue = [3, 0]')]"
      ]
     },
     "execution_count": 46,
     "metadata": {},
     "output_type": "execute_result"
    },
    {
     "data": {
      "image/png": "[encoded data removed]",
      "text/plain": [
       "<Figure size 1200x800 with 1 Axes>"
      ]
     },
     "metadata": {},
     "output_type": "display_data"
    }
   ],
   "source": [
    "# visualise decisio tree\n",
    "plt.figure(figsize=(12,8))\n",
    "tree.plot_tree(model.fit(x_train,y_train))"
   ]
  },
  {
   "cell_type": "code",
   "execution_count": 51,
   "id": "c5981420",
   "metadata": {},
   "outputs": [],
   "source": [
    "class_names=df['target'].unique().astype(str)\n",
    "# visualisation of decision tree\n",
    "import graphviz\n",
    "tree.export_graphviz(model, out_file=\"New_heart_disease.dot\",feature_names=x_train.columns,class_names=class_names,label='all',filled=True,rounded=True)"
   ]
  },
  {
   "cell_type": "code",
   "execution_count": null,
   "id": "4eb2aef0",
   "metadata": {},
   "outputs": [],
   "source": []
  }
 ],
 "metadata": {
  "kernelspec": {
   "display_name": "Python 3 (ipykernel)",
   "language": "python",
   "name": "python3"
  },
  "language_info": {
   "codemirror_mode": {
    "name": "ipython",
    "version": 3
   },
   "file_extension": ".py",
   "mimetype": "text/x-python",
   "name": "python",
   "nbconvert_exporter": "python",
   "pygments_lexer": "ipython3",
   "version": "3.11.1"
  }
 },
 "nbformat": 4,
 "nbformat_minor": 5
}
